{
 "cells": [
  {
   "cell_type": "markdown",
   "id": "570133f1",
   "metadata": {},
   "source": [
    "Привет! Меня зовут Исмаилов Исмаил, я буду проверять твой проект :) Можешь обращаться ко мне на «ты». Если тебе комфортно, то и я буду к тебе так обращаться, если нет, то обязательно скажи об этом.\n",
    "\n",
    "Пожалуйста, не удаляй мои комментарии, которые я буду оставлять в работе. Это особенно поможет, если твои проекты будут отправлены на повторную проверку. При повторных проверках у комментариев будут приписки: \"Вторая итерация\", \"Третья итерация\" и т.д. \n",
    "\n",
    "Ты тоже можешь реагировать на мои комментарии, но в таком случае постарайся, чтобы твои комментарии отличались от моих: например, выделяй их своим любимым цветом — так у нас не возникнет путаницы :)\n",
    "\n",
    "Кстати, про цвета! Мои комментарии будут в следующей цветовой гамме: зелеными, желтыми и красными. Например:\n",
    "\n",
    "<div class=\"alert-success\"> \n",
    "<b>Комментарий ревьюера 👍 </b>\n",
    "    \n",
    "В случае, если решение на отдельном шаге является полностью правильным. </div>\n",
    "\n",
    "<div class=\"alert-warning\"> \n",
    "<b>Комментарий ревьюера 💡</b> \n",
    "    \n",
    "В случае, если решение может стать еще лучше с некоторыми корректировками </div>\n",
    " \n",
    "<div class=\"alert-danger\"> \n",
    "<b>Комментарий ревьюера ❌</b> \n",
    "    \n",
    "В случае, если решение какого-то шага требует значительных изменений. Проект не может быть принят с первого раза, если ревью содержит комментарии, помеченные этим цветом </div>"
   ]
  },
  {
   "cell_type": "markdown",
   "id": "714c56e5",
   "metadata": {
    "deletable": false,
    "editable": false,
    "id": "c81daeeb"
   },
   "source": [
    "# Исследование надежности заемщиков\n"
   ]
  },
  {
   "cell_type": "markdown",
   "id": "be24dc36",
   "metadata": {
    "deletable": false,
    "editable": false,
    "id": "827c20bf"
   },
   "source": [
    "Во второй части проекта вы выполните шаги 3 и 4. Их вручную проверит ревьюер.\n",
    "Чтобы вам не пришлось писать код заново для шагов 1 и 2, мы добавили авторские решения в ячейки с кодом. \n",
    "\n"
   ]
  },
  {
   "cell_type": "markdown",
   "id": "113d2718",
   "metadata": {
    "deletable": false,
    "editable": false,
    "id": "744d7639"
   },
   "source": [
    "## Откройте таблицу и изучите общую информацию о данных"
   ]
  },
  {
   "cell_type": "markdown",
   "id": "8c0f19ab",
   "metadata": {
    "deletable": false,
    "editable": false,
    "id": "e7a14c31"
   },
   "source": [
    "**Задание 1. Импортируйте библиотеку pandas. Считайте данные из csv-файла в датафрейм и сохраните в переменную `data`. Путь к файлу:**\n",
    "\n",
    "`/datasets/data.csv`"
   ]
  },
  {
   "cell_type": "code",
   "execution_count": 88,
   "id": "dfb58a47",
   "metadata": {
    "deletable": false,
    "id": "7bcf75c9"
   },
   "outputs": [],
   "source": [
    "import pandas as pd\n",
    "\n",
    "try:\n",
    "    data = pd.read_csv('/datasets/data.csv')\n",
    "except:\n",
    "    data = pd.read_csv('https://code.s3.yandex.net/datasets/data.csv')"
   ]
  },
  {
   "cell_type": "markdown",
   "id": "41872aa9",
   "metadata": {
    "deletable": false,
    "editable": false,
    "id": "b8038fe3"
   },
   "source": [
    "**Задание 2. Выведите первые 20 строчек датафрейма `data` на экран.**"
   ]
  },
  {
   "cell_type": "code",
   "execution_count": 89,
   "id": "2d8bb56a",
   "metadata": {
    "deletable": false,
    "id": "2a7cab99",
    "outputId": "1a8f3ef2-d323-4ec2-ddf7-89670b5944c4"
   },
   "outputs": [
    {
     "data": {
      "text/html": [
       "<div>\n",
       "<style scoped>\n",
       "    .dataframe tbody tr th:only-of-type {\n",
       "        vertical-align: middle;\n",
       "    }\n",
       "\n",
       "    .dataframe tbody tr th {\n",
       "        vertical-align: top;\n",
       "    }\n",
       "\n",
       "    .dataframe thead th {\n",
       "        text-align: right;\n",
       "    }\n",
       "</style>\n",
       "<table border=\"1\" class=\"dataframe\">\n",
       "  <thead>\n",
       "    <tr style=\"text-align: right;\">\n",
       "      <th></th>\n",
       "      <th>children</th>\n",
       "      <th>days_employed</th>\n",
       "      <th>dob_years</th>\n",
       "      <th>education</th>\n",
       "      <th>education_id</th>\n",
       "      <th>family_status</th>\n",
       "      <th>family_status_id</th>\n",
       "      <th>gender</th>\n",
       "      <th>income_type</th>\n",
       "      <th>debt</th>\n",
       "      <th>total_income</th>\n",
       "      <th>purpose</th>\n",
       "    </tr>\n",
       "  </thead>\n",
       "  <tbody>\n",
       "    <tr>\n",
       "      <th>0</th>\n",
       "      <td>1</td>\n",
       "      <td>-8437.673028</td>\n",
       "      <td>42</td>\n",
       "      <td>высшее</td>\n",
       "      <td>0</td>\n",
       "      <td>женат / замужем</td>\n",
       "      <td>0</td>\n",
       "      <td>F</td>\n",
       "      <td>сотрудник</td>\n",
       "      <td>0</td>\n",
       "      <td>253875.639453</td>\n",
       "      <td>покупка жилья</td>\n",
       "    </tr>\n",
       "    <tr>\n",
       "      <th>1</th>\n",
       "      <td>1</td>\n",
       "      <td>-4024.803754</td>\n",
       "      <td>36</td>\n",
       "      <td>среднее</td>\n",
       "      <td>1</td>\n",
       "      <td>женат / замужем</td>\n",
       "      <td>0</td>\n",
       "      <td>F</td>\n",
       "      <td>сотрудник</td>\n",
       "      <td>0</td>\n",
       "      <td>112080.014102</td>\n",
       "      <td>приобретение автомобиля</td>\n",
       "    </tr>\n",
       "    <tr>\n",
       "      <th>2</th>\n",
       "      <td>0</td>\n",
       "      <td>-5623.422610</td>\n",
       "      <td>33</td>\n",
       "      <td>Среднее</td>\n",
       "      <td>1</td>\n",
       "      <td>женат / замужем</td>\n",
       "      <td>0</td>\n",
       "      <td>M</td>\n",
       "      <td>сотрудник</td>\n",
       "      <td>0</td>\n",
       "      <td>145885.952297</td>\n",
       "      <td>покупка жилья</td>\n",
       "    </tr>\n",
       "    <tr>\n",
       "      <th>3</th>\n",
       "      <td>3</td>\n",
       "      <td>-4124.747207</td>\n",
       "      <td>32</td>\n",
       "      <td>среднее</td>\n",
       "      <td>1</td>\n",
       "      <td>женат / замужем</td>\n",
       "      <td>0</td>\n",
       "      <td>M</td>\n",
       "      <td>сотрудник</td>\n",
       "      <td>0</td>\n",
       "      <td>267628.550329</td>\n",
       "      <td>дополнительное образование</td>\n",
       "    </tr>\n",
       "    <tr>\n",
       "      <th>4</th>\n",
       "      <td>0</td>\n",
       "      <td>340266.072047</td>\n",
       "      <td>53</td>\n",
       "      <td>среднее</td>\n",
       "      <td>1</td>\n",
       "      <td>гражданский брак</td>\n",
       "      <td>1</td>\n",
       "      <td>F</td>\n",
       "      <td>пенсионер</td>\n",
       "      <td>0</td>\n",
       "      <td>158616.077870</td>\n",
       "      <td>сыграть свадьбу</td>\n",
       "    </tr>\n",
       "    <tr>\n",
       "      <th>5</th>\n",
       "      <td>0</td>\n",
       "      <td>-926.185831</td>\n",
       "      <td>27</td>\n",
       "      <td>высшее</td>\n",
       "      <td>0</td>\n",
       "      <td>гражданский брак</td>\n",
       "      <td>1</td>\n",
       "      <td>M</td>\n",
       "      <td>компаньон</td>\n",
       "      <td>0</td>\n",
       "      <td>255763.565419</td>\n",
       "      <td>покупка жилья</td>\n",
       "    </tr>\n",
       "    <tr>\n",
       "      <th>6</th>\n",
       "      <td>0</td>\n",
       "      <td>-2879.202052</td>\n",
       "      <td>43</td>\n",
       "      <td>высшее</td>\n",
       "      <td>0</td>\n",
       "      <td>женат / замужем</td>\n",
       "      <td>0</td>\n",
       "      <td>F</td>\n",
       "      <td>компаньон</td>\n",
       "      <td>0</td>\n",
       "      <td>240525.971920</td>\n",
       "      <td>операции с жильем</td>\n",
       "    </tr>\n",
       "    <tr>\n",
       "      <th>7</th>\n",
       "      <td>0</td>\n",
       "      <td>-152.779569</td>\n",
       "      <td>50</td>\n",
       "      <td>СРЕДНЕЕ</td>\n",
       "      <td>1</td>\n",
       "      <td>женат / замужем</td>\n",
       "      <td>0</td>\n",
       "      <td>M</td>\n",
       "      <td>сотрудник</td>\n",
       "      <td>0</td>\n",
       "      <td>135823.934197</td>\n",
       "      <td>образование</td>\n",
       "    </tr>\n",
       "    <tr>\n",
       "      <th>8</th>\n",
       "      <td>2</td>\n",
       "      <td>-6929.865299</td>\n",
       "      <td>35</td>\n",
       "      <td>ВЫСШЕЕ</td>\n",
       "      <td>0</td>\n",
       "      <td>гражданский брак</td>\n",
       "      <td>1</td>\n",
       "      <td>F</td>\n",
       "      <td>сотрудник</td>\n",
       "      <td>0</td>\n",
       "      <td>95856.832424</td>\n",
       "      <td>на проведение свадьбы</td>\n",
       "    </tr>\n",
       "    <tr>\n",
       "      <th>9</th>\n",
       "      <td>0</td>\n",
       "      <td>-2188.756445</td>\n",
       "      <td>41</td>\n",
       "      <td>среднее</td>\n",
       "      <td>1</td>\n",
       "      <td>женат / замужем</td>\n",
       "      <td>0</td>\n",
       "      <td>M</td>\n",
       "      <td>сотрудник</td>\n",
       "      <td>0</td>\n",
       "      <td>144425.938277</td>\n",
       "      <td>покупка жилья для семьи</td>\n",
       "    </tr>\n",
       "    <tr>\n",
       "      <th>10</th>\n",
       "      <td>2</td>\n",
       "      <td>-4171.483647</td>\n",
       "      <td>36</td>\n",
       "      <td>высшее</td>\n",
       "      <td>0</td>\n",
       "      <td>женат / замужем</td>\n",
       "      <td>0</td>\n",
       "      <td>M</td>\n",
       "      <td>компаньон</td>\n",
       "      <td>0</td>\n",
       "      <td>113943.491460</td>\n",
       "      <td>покупка недвижимости</td>\n",
       "    </tr>\n",
       "    <tr>\n",
       "      <th>11</th>\n",
       "      <td>0</td>\n",
       "      <td>-792.701887</td>\n",
       "      <td>40</td>\n",
       "      <td>среднее</td>\n",
       "      <td>1</td>\n",
       "      <td>женат / замужем</td>\n",
       "      <td>0</td>\n",
       "      <td>F</td>\n",
       "      <td>сотрудник</td>\n",
       "      <td>0</td>\n",
       "      <td>77069.234271</td>\n",
       "      <td>покупка коммерческой недвижимости</td>\n",
       "    </tr>\n",
       "    <tr>\n",
       "      <th>12</th>\n",
       "      <td>0</td>\n",
       "      <td>NaN</td>\n",
       "      <td>65</td>\n",
       "      <td>среднее</td>\n",
       "      <td>1</td>\n",
       "      <td>гражданский брак</td>\n",
       "      <td>1</td>\n",
       "      <td>M</td>\n",
       "      <td>пенсионер</td>\n",
       "      <td>0</td>\n",
       "      <td>NaN</td>\n",
       "      <td>сыграть свадьбу</td>\n",
       "    </tr>\n",
       "    <tr>\n",
       "      <th>13</th>\n",
       "      <td>0</td>\n",
       "      <td>-1846.641941</td>\n",
       "      <td>54</td>\n",
       "      <td>неоконченное высшее</td>\n",
       "      <td>2</td>\n",
       "      <td>женат / замужем</td>\n",
       "      <td>0</td>\n",
       "      <td>F</td>\n",
       "      <td>сотрудник</td>\n",
       "      <td>0</td>\n",
       "      <td>130458.228857</td>\n",
       "      <td>приобретение автомобиля</td>\n",
       "    </tr>\n",
       "    <tr>\n",
       "      <th>14</th>\n",
       "      <td>0</td>\n",
       "      <td>-1844.956182</td>\n",
       "      <td>56</td>\n",
       "      <td>высшее</td>\n",
       "      <td>0</td>\n",
       "      <td>гражданский брак</td>\n",
       "      <td>1</td>\n",
       "      <td>F</td>\n",
       "      <td>компаньон</td>\n",
       "      <td>1</td>\n",
       "      <td>165127.911772</td>\n",
       "      <td>покупка жилой недвижимости</td>\n",
       "    </tr>\n",
       "    <tr>\n",
       "      <th>15</th>\n",
       "      <td>1</td>\n",
       "      <td>-972.364419</td>\n",
       "      <td>26</td>\n",
       "      <td>среднее</td>\n",
       "      <td>1</td>\n",
       "      <td>женат / замужем</td>\n",
       "      <td>0</td>\n",
       "      <td>F</td>\n",
       "      <td>сотрудник</td>\n",
       "      <td>0</td>\n",
       "      <td>116820.904450</td>\n",
       "      <td>строительство собственной недвижимости</td>\n",
       "    </tr>\n",
       "    <tr>\n",
       "      <th>16</th>\n",
       "      <td>0</td>\n",
       "      <td>-1719.934226</td>\n",
       "      <td>35</td>\n",
       "      <td>среднее</td>\n",
       "      <td>1</td>\n",
       "      <td>женат / замужем</td>\n",
       "      <td>0</td>\n",
       "      <td>F</td>\n",
       "      <td>сотрудник</td>\n",
       "      <td>0</td>\n",
       "      <td>289202.704229</td>\n",
       "      <td>недвижимость</td>\n",
       "    </tr>\n",
       "    <tr>\n",
       "      <th>17</th>\n",
       "      <td>0</td>\n",
       "      <td>-2369.999720</td>\n",
       "      <td>33</td>\n",
       "      <td>высшее</td>\n",
       "      <td>0</td>\n",
       "      <td>гражданский брак</td>\n",
       "      <td>1</td>\n",
       "      <td>M</td>\n",
       "      <td>сотрудник</td>\n",
       "      <td>0</td>\n",
       "      <td>90410.586745</td>\n",
       "      <td>строительство недвижимости</td>\n",
       "    </tr>\n",
       "    <tr>\n",
       "      <th>18</th>\n",
       "      <td>0</td>\n",
       "      <td>400281.136913</td>\n",
       "      <td>53</td>\n",
       "      <td>среднее</td>\n",
       "      <td>1</td>\n",
       "      <td>вдовец / вдова</td>\n",
       "      <td>2</td>\n",
       "      <td>F</td>\n",
       "      <td>пенсионер</td>\n",
       "      <td>0</td>\n",
       "      <td>56823.777243</td>\n",
       "      <td>на покупку подержанного автомобиля</td>\n",
       "    </tr>\n",
       "    <tr>\n",
       "      <th>19</th>\n",
       "      <td>0</td>\n",
       "      <td>-10038.818549</td>\n",
       "      <td>48</td>\n",
       "      <td>СРЕДНЕЕ</td>\n",
       "      <td>1</td>\n",
       "      <td>в разводе</td>\n",
       "      <td>3</td>\n",
       "      <td>F</td>\n",
       "      <td>сотрудник</td>\n",
       "      <td>0</td>\n",
       "      <td>242831.107982</td>\n",
       "      <td>на покупку своего автомобиля</td>\n",
       "    </tr>\n",
       "  </tbody>\n",
       "</table>\n",
       "</div>"
      ],
      "text/plain": [
       "    children  days_employed  dob_years            education  education_id  \\\n",
       "0          1   -8437.673028         42               высшее             0   \n",
       "1          1   -4024.803754         36              среднее             1   \n",
       "2          0   -5623.422610         33              Среднее             1   \n",
       "3          3   -4124.747207         32              среднее             1   \n",
       "4          0  340266.072047         53              среднее             1   \n",
       "5          0    -926.185831         27               высшее             0   \n",
       "6          0   -2879.202052         43               высшее             0   \n",
       "7          0    -152.779569         50              СРЕДНЕЕ             1   \n",
       "8          2   -6929.865299         35               ВЫСШЕЕ             0   \n",
       "9          0   -2188.756445         41              среднее             1   \n",
       "10         2   -4171.483647         36               высшее             0   \n",
       "11         0    -792.701887         40              среднее             1   \n",
       "12         0            NaN         65              среднее             1   \n",
       "13         0   -1846.641941         54  неоконченное высшее             2   \n",
       "14         0   -1844.956182         56               высшее             0   \n",
       "15         1    -972.364419         26              среднее             1   \n",
       "16         0   -1719.934226         35              среднее             1   \n",
       "17         0   -2369.999720         33               высшее             0   \n",
       "18         0  400281.136913         53              среднее             1   \n",
       "19         0  -10038.818549         48              СРЕДНЕЕ             1   \n",
       "\n",
       "       family_status  family_status_id gender income_type  debt  \\\n",
       "0    женат / замужем                 0      F   сотрудник     0   \n",
       "1    женат / замужем                 0      F   сотрудник     0   \n",
       "2    женат / замужем                 0      M   сотрудник     0   \n",
       "3    женат / замужем                 0      M   сотрудник     0   \n",
       "4   гражданский брак                 1      F   пенсионер     0   \n",
       "5   гражданский брак                 1      M   компаньон     0   \n",
       "6    женат / замужем                 0      F   компаньон     0   \n",
       "7    женат / замужем                 0      M   сотрудник     0   \n",
       "8   гражданский брак                 1      F   сотрудник     0   \n",
       "9    женат / замужем                 0      M   сотрудник     0   \n",
       "10   женат / замужем                 0      M   компаньон     0   \n",
       "11   женат / замужем                 0      F   сотрудник     0   \n",
       "12  гражданский брак                 1      M   пенсионер     0   \n",
       "13   женат / замужем                 0      F   сотрудник     0   \n",
       "14  гражданский брак                 1      F   компаньон     1   \n",
       "15   женат / замужем                 0      F   сотрудник     0   \n",
       "16   женат / замужем                 0      F   сотрудник     0   \n",
       "17  гражданский брак                 1      M   сотрудник     0   \n",
       "18    вдовец / вдова                 2      F   пенсионер     0   \n",
       "19         в разводе                 3      F   сотрудник     0   \n",
       "\n",
       "     total_income                                 purpose  \n",
       "0   253875.639453                           покупка жилья  \n",
       "1   112080.014102                 приобретение автомобиля  \n",
       "2   145885.952297                           покупка жилья  \n",
       "3   267628.550329              дополнительное образование  \n",
       "4   158616.077870                         сыграть свадьбу  \n",
       "5   255763.565419                           покупка жилья  \n",
       "6   240525.971920                       операции с жильем  \n",
       "7   135823.934197                             образование  \n",
       "8    95856.832424                   на проведение свадьбы  \n",
       "9   144425.938277                 покупка жилья для семьи  \n",
       "10  113943.491460                    покупка недвижимости  \n",
       "11   77069.234271       покупка коммерческой недвижимости  \n",
       "12            NaN                         сыграть свадьбу  \n",
       "13  130458.228857                 приобретение автомобиля  \n",
       "14  165127.911772              покупка жилой недвижимости  \n",
       "15  116820.904450  строительство собственной недвижимости  \n",
       "16  289202.704229                            недвижимость  \n",
       "17   90410.586745              строительство недвижимости  \n",
       "18   56823.777243      на покупку подержанного автомобиля  \n",
       "19  242831.107982            на покупку своего автомобиля  "
      ]
     },
     "execution_count": 89,
     "metadata": {},
     "output_type": "execute_result"
    }
   ],
   "source": [
    "data.head(20)"
   ]
  },
  {
   "cell_type": "markdown",
   "id": "f335b1e3",
   "metadata": {
    "deletable": false,
    "editable": false,
    "id": "1c12e233"
   },
   "source": [
    "**Задание 3. Выведите основную информацию о датафрейме с помощью метода `info()`.**"
   ]
  },
  {
   "cell_type": "code",
   "execution_count": 90,
   "id": "a4079361",
   "metadata": {
    "deletable": false,
    "id": "2b757bca",
    "outputId": "15376089-8dad-46c9-b520-c05248d43158"
   },
   "outputs": [
    {
     "name": "stdout",
     "output_type": "stream",
     "text": [
      "<class 'pandas.core.frame.DataFrame'>\n",
      "RangeIndex: 21525 entries, 0 to 21524\n",
      "Data columns (total 12 columns):\n",
      " #   Column            Non-Null Count  Dtype  \n",
      "---  ------            --------------  -----  \n",
      " 0   children          21525 non-null  int64  \n",
      " 1   days_employed     19351 non-null  float64\n",
      " 2   dob_years         21525 non-null  int64  \n",
      " 3   education         21525 non-null  object \n",
      " 4   education_id      21525 non-null  int64  \n",
      " 5   family_status     21525 non-null  object \n",
      " 6   family_status_id  21525 non-null  int64  \n",
      " 7   gender            21525 non-null  object \n",
      " 8   income_type       21525 non-null  object \n",
      " 9   debt              21525 non-null  int64  \n",
      " 10  total_income      19351 non-null  float64\n",
      " 11  purpose           21525 non-null  object \n",
      "dtypes: float64(2), int64(5), object(5)\n",
      "memory usage: 2.0+ MB\n"
     ]
    }
   ],
   "source": [
    "data.info()"
   ]
  },
  {
   "cell_type": "markdown",
   "id": "4d867a61",
   "metadata": {
    "deletable": false,
    "editable": false,
    "id": "333ec665"
   },
   "source": [
    "## Предобработка данных"
   ]
  },
  {
   "cell_type": "markdown",
   "id": "ef9ecf3d",
   "metadata": {
    "deletable": false,
    "editable": false,
    "id": "02d92d53"
   },
   "source": [
    "### Удаление пропусков"
   ]
  },
  {
   "cell_type": "markdown",
   "id": "36ad89ed",
   "metadata": {
    "deletable": false,
    "editable": false,
    "id": "cd84967c"
   },
   "source": [
    "**Задание 4. Выведите количество пропущенных значений для каждого столбца. Используйте комбинацию двух методов.**"
   ]
  },
  {
   "cell_type": "code",
   "execution_count": 91,
   "id": "26f1981c",
   "metadata": {
    "deletable": false,
    "id": "7f9b2309",
    "outputId": "81f4d817-781c-465c-ed15-91ce4446810d"
   },
   "outputs": [
    {
     "data": {
      "text/plain": [
       "children               0\n",
       "days_employed       2174\n",
       "dob_years              0\n",
       "education              0\n",
       "education_id           0\n",
       "family_status          0\n",
       "family_status_id       0\n",
       "gender                 0\n",
       "income_type            0\n",
       "debt                   0\n",
       "total_income        2174\n",
       "purpose                0\n",
       "dtype: int64"
      ]
     },
     "execution_count": 91,
     "metadata": {},
     "output_type": "execute_result"
    }
   ],
   "source": [
    "data.isna().sum()"
   ]
  },
  {
   "cell_type": "markdown",
   "id": "6a2787b9",
   "metadata": {
    "deletable": false,
    "editable": false,
    "id": "db86e27b"
   },
   "source": [
    "**Задание 5. В двух столбцах есть пропущенные значения. Один из них — `days_employed`. Пропуски в этом столбце вы обработаете на следующем этапе. Другой столбец с пропущенными значениями — `total_income` — хранит данные о доходах. На сумму дохода сильнее всего влияет тип занятости, поэтому заполнить пропуски в этом столбце нужно медианным значением по каждому типу из столбца `income_type`. Например, у человека с типом занятости `сотрудник` пропуск в столбце `total_income` должен быть заполнен медианным доходом среди всех записей с тем же типом.**"
   ]
  },
  {
   "cell_type": "code",
   "execution_count": 92,
   "id": "4148fa9d",
   "metadata": {
    "deletable": false,
    "id": "42006a93"
   },
   "outputs": [],
   "source": [
    "for t in data['income_type'].unique():\n",
    "    data.loc[(data['income_type'] == t) & (data['total_income'].isna()), 'total_income'] = \\\n",
    "    data.loc[(data['income_type'] == t), 'total_income'].median()"
   ]
  },
  {
   "cell_type": "markdown",
   "id": "cf15ca8b",
   "metadata": {
    "deletable": false,
    "editable": false,
    "id": "89da5ece"
   },
   "source": [
    "### Обработка аномальных значений"
   ]
  },
  {
   "cell_type": "markdown",
   "id": "099e7f26",
   "metadata": {
    "deletable": false,
    "editable": false,
    "id": "57964554"
   },
   "source": [
    "**Задание 6. В данных могут встречаться артефакты (аномалии) — значения, которые не отражают действительность и появились по какой-то ошибке. таким артефактом будет отрицательное количество дней трудового стажа в столбце `days_employed`. Для реальных данных это нормально. Обработайте значения в этом столбце: замените все отрицательные значения положительными с помощью метода `abs()`.**"
   ]
  },
  {
   "cell_type": "code",
   "execution_count": 93,
   "id": "7efa5a59",
   "metadata": {
    "deletable": false,
    "id": "f6f055bf"
   },
   "outputs": [],
   "source": [
    "data['days_employed'] = data['days_employed'].abs()"
   ]
  },
  {
   "cell_type": "markdown",
   "id": "50da35fd",
   "metadata": {
    "deletable": false,
    "editable": false,
    "id": "6107dd2f"
   },
   "source": [
    "**Задание 7. Для каждого типа занятости выведите медианное значение трудового стажа `days_employed` в днях.**"
   ]
  },
  {
   "cell_type": "code",
   "execution_count": 94,
   "id": "4e370783",
   "metadata": {
    "deletable": false,
    "id": "85a5faf6",
    "outputId": "801ef80e-522b-4668-f34e-565af7432bcf"
   },
   "outputs": [
    {
     "data": {
      "text/plain": [
       "income_type\n",
       "безработный        366413.652744\n",
       "в декрете            3296.759962\n",
       "госслужащий          2689.368353\n",
       "компаньон            1547.382223\n",
       "пенсионер          365213.306266\n",
       "предприниматель       520.848083\n",
       "сотрудник            1574.202821\n",
       "студент               578.751554\n",
       "Name: days_employed, dtype: float64"
      ]
     },
     "execution_count": 94,
     "metadata": {},
     "output_type": "execute_result"
    }
   ],
   "source": [
    "data.groupby('income_type')['days_employed'].agg('median')"
   ]
  },
  {
   "cell_type": "markdown",
   "id": "63daf5ac",
   "metadata": {
    "deletable": false,
    "editable": false,
    "id": "38d1a030"
   },
   "source": [
    "У двух типов (безработные и пенсионеры) получатся аномально большие значения. Исправить такие значения сложно, поэтому оставьте их как есть. Тем более этот столбец не понадобится вам для исследования."
   ]
  },
  {
   "cell_type": "markdown",
   "id": "b13ab666",
   "metadata": {
    "deletable": false,
    "editable": false,
    "id": "d8a9f147"
   },
   "source": [
    "**Задание 8. Выведите перечень уникальных значений столбца `children`.**"
   ]
  },
  {
   "cell_type": "code",
   "execution_count": 95,
   "id": "b92a3f99",
   "metadata": {
    "deletable": false,
    "id": "ef5056eb",
    "outputId": "6975b15c-7f95-4697-d16d-a0c79b657b03"
   },
   "outputs": [
    {
     "data": {
      "text/plain": [
       "array([ 1,  0,  3,  2, -1,  4, 20,  5])"
      ]
     },
     "execution_count": 95,
     "metadata": {},
     "output_type": "execute_result"
    }
   ],
   "source": [
    "data['children'].unique()"
   ]
  },
  {
   "cell_type": "markdown",
   "id": "7ea06fb0",
   "metadata": {
    "deletable": false,
    "editable": false,
    "id": "40b9ebf2"
   },
   "source": [
    "**Задание 9. В столбце `children` есть два аномальных значения. Удалите строки, в которых встречаются такие аномальные значения из датафрейма `data`.**"
   ]
  },
  {
   "cell_type": "code",
   "execution_count": 96,
   "id": "6221e1e7",
   "metadata": {
    "deletable": false,
    "id": "3ff9801d"
   },
   "outputs": [],
   "source": [
    "data = data[(data['children'] != -1) & (data['children'] != 20)]"
   ]
  },
  {
   "cell_type": "markdown",
   "id": "aac13b76",
   "metadata": {
    "deletable": false,
    "editable": false,
    "id": "bbc4d0ce"
   },
   "source": [
    "**Задание 10. Ещё раз выведите перечень уникальных значений столбца `children`, чтобы убедиться, что артефакты удалены.**"
   ]
  },
  {
   "cell_type": "code",
   "execution_count": 97,
   "id": "fcebf758",
   "metadata": {
    "deletable": false,
    "id": "ad4fa8b7",
    "outputId": "b2097101-d49d-44d9-901b-32a65c9463d1"
   },
   "outputs": [
    {
     "data": {
      "text/plain": [
       "array([1, 0, 3, 2, 4, 5])"
      ]
     },
     "execution_count": 97,
     "metadata": {},
     "output_type": "execute_result"
    }
   ],
   "source": [
    "data['children'].unique()"
   ]
  },
  {
   "cell_type": "markdown",
   "id": "4e501470",
   "metadata": {
    "deletable": false,
    "editable": false,
    "id": "75440b63"
   },
   "source": [
    "### Удаление пропусков (продолжение)"
   ]
  },
  {
   "cell_type": "markdown",
   "id": "659e9c60",
   "metadata": {
    "deletable": false,
    "editable": false,
    "id": "f4ea573f"
   },
   "source": [
    "**Задание 11. Заполните пропуски в столбце `days_employed` медианными значениями по каждого типа занятости `income_type`.**"
   ]
  },
  {
   "cell_type": "code",
   "execution_count": 98,
   "id": "761ba83d",
   "metadata": {
    "deletable": false,
    "id": "af6b1a7e"
   },
   "outputs": [],
   "source": [
    "for t in data['income_type'].unique():\n",
    "    data.loc[(data['income_type'] == t) & (data['days_employed'].isna()), 'days_employed'] = \\\n",
    "    data.loc[(data['income_type'] == t), 'days_employed'].median()"
   ]
  },
  {
   "cell_type": "markdown",
   "id": "d3196aad",
   "metadata": {
    "deletable": false,
    "editable": false,
    "id": "2753f40d"
   },
   "source": [
    "**Задание 12. Убедитесь, что все пропуски заполнены. Проверьте себя и ещё раз выведите количество пропущенных значений для каждого столбца с помощью двух методов.**"
   ]
  },
  {
   "cell_type": "code",
   "execution_count": 99,
   "id": "2cf28357",
   "metadata": {
    "deletable": false,
    "id": "55f78bc2",
    "outputId": "8da1e4e1-358e-4e87-98c9-f261bce0a7b2"
   },
   "outputs": [
    {
     "data": {
      "text/plain": [
       "children            0\n",
       "days_employed       0\n",
       "dob_years           0\n",
       "education           0\n",
       "education_id        0\n",
       "family_status       0\n",
       "family_status_id    0\n",
       "gender              0\n",
       "income_type         0\n",
       "debt                0\n",
       "total_income        0\n",
       "purpose             0\n",
       "dtype: int64"
      ]
     },
     "execution_count": 99,
     "metadata": {},
     "output_type": "execute_result"
    }
   ],
   "source": [
    "data.isna().sum()"
   ]
  },
  {
   "cell_type": "markdown",
   "id": "0435f861",
   "metadata": {
    "deletable": false,
    "editable": false,
    "id": "ddc81e43"
   },
   "source": [
    "### Изменение типов данных"
   ]
  },
  {
   "cell_type": "markdown",
   "id": "ba9f1113",
   "metadata": {
    "deletable": false,
    "editable": false,
    "id": "42d19d24"
   },
   "source": [
    "**Задание 13. Замените вещественный тип данных в столбце `total_income` на целочисленный с помощью метода `astype()`.**"
   ]
  },
  {
   "cell_type": "code",
   "execution_count": 100,
   "id": "57838a86",
   "metadata": {
    "deletable": false,
    "id": "920b65ad"
   },
   "outputs": [],
   "source": [
    "data['total_income'] = data['total_income'].astype(int)"
   ]
  },
  {
   "cell_type": "markdown",
   "id": "adad0025",
   "metadata": {
    "deletable": false,
    "editable": false,
    "id": "80c420ba"
   },
   "source": [
    "### Обработка дубликатов"
   ]
  },
  {
   "cell_type": "markdown",
   "id": "ea006841",
   "metadata": {
    "deletable": false,
    "editable": false
   },
   "source": [
    "**Задание 14. Обработайте неявные дубликаты в столбце `education`. В этом столбце есть одни и те же значения, но записанные по-разному: с использованием заглавных и строчных букв. Приведите их к нижнему регистру. Проверьте остальные столбцы.**"
   ]
  },
  {
   "cell_type": "code",
   "execution_count": 101,
   "id": "38d08377",
   "metadata": {
    "deletable": false
   },
   "outputs": [],
   "source": [
    "data['education'] = data['education'].str.lower()"
   ]
  },
  {
   "cell_type": "markdown",
   "id": "f6bbd953",
   "metadata": {
    "deletable": false,
    "editable": false,
    "id": "dc587695"
   },
   "source": [
    "**Задание 15. Выведите на экран количество строк-дубликатов в данных. Если такие строки присутствуют, удалите их.**"
   ]
  },
  {
   "cell_type": "code",
   "execution_count": 102,
   "id": "f8e52949",
   "metadata": {
    "deletable": false,
    "id": "3ee445e4",
    "outputId": "9684deba-1934-42d1-99e1-cda61740f822"
   },
   "outputs": [
    {
     "data": {
      "text/plain": [
       "71"
      ]
     },
     "execution_count": 102,
     "metadata": {},
     "output_type": "execute_result"
    }
   ],
   "source": [
    "data.duplicated().sum()"
   ]
  },
  {
   "cell_type": "code",
   "execution_count": 103,
   "id": "e126ff84",
   "metadata": {
    "deletable": false,
    "id": "8575fe05"
   },
   "outputs": [],
   "source": [
    "data = data.drop_duplicates()"
   ]
  },
  {
   "cell_type": "markdown",
   "id": "91578734",
   "metadata": {
    "deletable": false,
    "editable": false,
    "id": "9904cf55"
   },
   "source": [
    "### Категоризация данных"
   ]
  },
  {
   "cell_type": "markdown",
   "id": "a414c3d6",
   "metadata": {
    "deletable": false,
    "editable": false,
    "id": "72fcc8a2"
   },
   "source": [
    "**Задание 16. На основании диапазонов, указанных ниже, создайте в датафрейме `data` столбец `total_income_category` с категориями:**\n",
    "\n",
    "- 0–30000 — `'E'`;\n",
    "- 30001–50000 — `'D'`;\n",
    "- 50001–200000 — `'C'`;\n",
    "- 200001–1000000 — `'B'`;\n",
    "- 1000001 и выше — `'A'`.\n",
    "\n",
    "\n",
    "**Например, кредитополучателю с доходом 25000 нужно назначить категорию `'E'`, а клиенту, получающему 235000, — `'B'`. Используйте собственную функцию с именем `categorize_income()` и метод `apply()`.**"
   ]
  },
  {
   "cell_type": "code",
   "execution_count": 104,
   "id": "0b0cf80d",
   "metadata": {
    "deletable": false,
    "id": "e1771346"
   },
   "outputs": [],
   "source": [
    "def categorize_income(income):\n",
    "    try:\n",
    "        if 0 <= income <= 30000:\n",
    "            return 'E'\n",
    "        elif 30001 <= income <= 50000:\n",
    "            return 'D'\n",
    "        elif 50001 <= income <= 200000:\n",
    "            return 'C'\n",
    "        elif 200001 <= income <= 1000000:\n",
    "            return 'B'\n",
    "        elif income >= 1000001:\n",
    "            return 'A'\n",
    "    except:\n",
    "        pass"
   ]
  },
  {
   "cell_type": "code",
   "execution_count": 105,
   "id": "ca53fffe",
   "metadata": {
    "deletable": false,
    "id": "d5f3586d"
   },
   "outputs": [],
   "source": [
    "data['total_income_category'] = data['total_income'].apply(categorize_income)"
   ]
  },
  {
   "cell_type": "markdown",
   "id": "f559c49c",
   "metadata": {
    "deletable": false,
    "editable": false,
    "id": "dde49b5c"
   },
   "source": [
    "**Задание 17. Выведите на экран перечень уникальных целей взятия кредита из столбца `purpose`.**"
   ]
  },
  {
   "cell_type": "code",
   "execution_count": 106,
   "id": "ddbdf8f7",
   "metadata": {
    "deletable": false,
    "id": "f67ce9b3",
    "outputId": "673c12d9-7d7e-4ae0-9812-c622c89dd244"
   },
   "outputs": [
    {
     "data": {
      "text/plain": [
       "array(['покупка жилья', 'приобретение автомобиля',\n",
       "       'дополнительное образование', 'сыграть свадьбу',\n",
       "       'операции с жильем', 'образование', 'на проведение свадьбы',\n",
       "       'покупка жилья для семьи', 'покупка недвижимости',\n",
       "       'покупка коммерческой недвижимости', 'покупка жилой недвижимости',\n",
       "       'строительство собственной недвижимости', 'недвижимость',\n",
       "       'строительство недвижимости', 'на покупку подержанного автомобиля',\n",
       "       'на покупку своего автомобиля',\n",
       "       'операции с коммерческой недвижимостью',\n",
       "       'строительство жилой недвижимости', 'жилье',\n",
       "       'операции со своей недвижимостью', 'автомобили',\n",
       "       'заняться образованием', 'сделка с подержанным автомобилем',\n",
       "       'получение образования', 'автомобиль', 'свадьба',\n",
       "       'получение дополнительного образования', 'покупка своего жилья',\n",
       "       'операции с недвижимостью', 'получение высшего образования',\n",
       "       'свой автомобиль', 'сделка с автомобилем',\n",
       "       'профильное образование', 'высшее образование',\n",
       "       'покупка жилья для сдачи', 'на покупку автомобиля', 'ремонт жилью',\n",
       "       'заняться высшим образованием'], dtype=object)"
      ]
     },
     "execution_count": 106,
     "metadata": {},
     "output_type": "execute_result"
    }
   ],
   "source": [
    "data['purpose'].unique()"
   ]
  },
  {
   "cell_type": "markdown",
   "id": "a09498d7",
   "metadata": {
    "deletable": false,
    "editable": false,
    "id": "85d0aef0"
   },
   "source": [
    "**Задание 18. Создайте функцию, которая на основании данных из столбца `purpose` сформирует новый столбец `purpose_category`, в который войдут следующие категории:**\n",
    "\n",
    "- `'операции с автомобилем'`,\n",
    "- `'операции с недвижимостью'`,\n",
    "- `'проведение свадьбы'`,\n",
    "- `'получение образования'`.\n",
    "\n",
    "**Например, если в столбце `purpose` находится подстрока `'на покупку автомобиля'`, то в столбце `purpose_category` должна появиться строка `'операции с автомобилем'`.**\n",
    "\n",
    "**Используйте собственную функцию с именем `categorize_purpose()` и метод `apply()`. Изучите данные в столбце `purpose` и определите, какие подстроки помогут вам правильно определить категорию.**"
   ]
  },
  {
   "cell_type": "code",
   "execution_count": 107,
   "id": "82eb0fec",
   "metadata": {
    "deletable": false,
    "id": "e149fab4"
   },
   "outputs": [],
   "source": [
    "def categorize_purpose(row):\n",
    "    try:\n",
    "        if 'автом' in row:\n",
    "            return 'операции с автомобилем'\n",
    "        elif 'жил' in row or 'недвиж' in row:\n",
    "            return 'операции с недвижимостью'\n",
    "        elif 'свад' in row:\n",
    "            return 'проведение свадьбы'\n",
    "        elif 'образов' in row:\n",
    "            return 'получение образования'\n",
    "    except:\n",
    "        return 'нет категории'"
   ]
  },
  {
   "cell_type": "code",
   "execution_count": 108,
   "id": "086c9a6c",
   "metadata": {
    "deletable": false,
    "id": "bf36e69b"
   },
   "outputs": [],
   "source": [
    "data['purpose_category'] = data['purpose'].apply(categorize_purpose)"
   ]
  },
  {
   "cell_type": "markdown",
   "id": "ed7b8be4",
   "metadata": {
    "deletable": false,
    "editable": false,
    "id": "09b242bf"
   },
   "source": [
    "### Шаг 3. Исследуйте данные и ответьте на вопросы"
   ]
  },
  {
   "cell_type": "markdown",
   "id": "8b8a75da",
   "metadata": {
    "deletable": false,
    "editable": false,
    "id": "c5d66278"
   },
   "source": [
    "#### 3.1 Есть ли зависимость между количеством детей и возвратом кредита в срок?"
   ]
  },
  {
   "cell_type": "code",
   "execution_count": 109,
   "id": "153ff1ed",
   "metadata": {
    "deletable": false,
    "id": "2cacfc4a"
   },
   "outputs": [
    {
     "name": "stdout",
     "output_type": "stream",
     "text": [
      "  children   sum  count     ratio\n",
      "            debt   debt          \n",
      "5        5     0      9  0.000000\n",
      "0        0  1063  14091  0.075438\n",
      "3        3    27    330  0.081818\n",
      "1        1   444   4808  0.092346\n",
      "2        2   194   2052  0.094542\n",
      "4        4     4     41  0.097561\n"
     ]
    }
   ],
   "source": [
    "data_pivot = data.pivot_table(index='children',  values ='debt', aggfunc =['sum','count']).reset_index()\n",
    "\n",
    "data_pivot['ratio'] = data_pivot['sum'] / data_pivot['count']\n",
    "print(data_pivot.sort_values(by='ratio'))"
   ]
  },
  {
   "cell_type": "markdown",
   "id": "2a750335",
   "metadata": {
    "deletable": false,
    "id": "3a6b99ec"
   },
   "source": [
    "**Вывод:** Будет ошибкой судить о вероятности возврата кредита в срок по категориям людей с 3-мя, 4-мя и 5-ю детьми ввиду малой статистической выборки. У клиентов без детей вероятность невозврата самая низкая - 7,5%, клиенты с 1-м и 2-мя детьми примерно одинаково не возвращают в срок - 9,2% и 9,4% соответственно. Можно сделать предварительный вывод, что вероятность невозврата нелинейно растет вместе с количеством детей у клиента."
   ]
  },
  {
   "cell_type": "markdown",
   "id": "bf680cf7",
   "metadata": {},
   "source": [
    "<div class=\"alert-warning\"> \n",
    "<b>Комментарий ревьюера 💡</b> \n",
    "\n",
    "Тут еще стоит обратить внимание на низкий размер выборки категории с 5 детьми - по ней нельзя делать выводы, стоит это отметить"
   ]
  },
  {
   "cell_type": "markdown",
   "id": "4c49230a",
   "metadata": {},
   "source": [
    "<div background-color=\"blue\"> \n",
    "<b>Комментарий студента</b> \n",
    "\n",
    "Спасибо! Исключил из выборки три категории, т.к. единицы, десятки и сотни - отличаются на порядок(-ки) от тысяч.\n",
    "</div>\n"
   ]
  },
  {
   "cell_type": "markdown",
   "id": "7a435b76",
   "metadata": {
    "deletable": false,
    "editable": false,
    "id": "97be82ca"
   },
   "source": [
    "#### 3.2 Есть ли зависимость между семейным положением и возвратом кредита в срок?"
   ]
  },
  {
   "cell_type": "code",
   "execution_count": 113,
   "id": "a62da6ff",
   "metadata": {
    "deletable": false,
    "id": "dc3f7ee8"
   },
   "outputs": [
    {
     "name": "stdout",
     "output_type": "stream",
     "text": [
      "           family_status  sum  count     ratio\n",
      "                         debt   debt          \n",
      "2         вдовец / вдова   63    951  0.066246\n",
      "1              в разводе   84   1189  0.070648\n",
      "4        женат / замужем  927  12261  0.075606\n",
      "3       гражданский брак  385   4134  0.093130\n",
      "0  Не женат / не замужем  273   2796  0.097639\n"
     ]
    }
   ],
   "source": [
    "data_pivot = data.pivot_table(index='family_status', values='debt', aggfunc=['sum', 'count']).reset_index()\n",
    "data_pivot['ratio'] = data_pivot['sum'] / data_pivot['count']\n",
    "print(data_pivot.sort_values(by='ratio'))\n",
    "\n",
    "# Ваш код будет здесь. Вы можете создавать новые ячейки."
   ]
  },
  {
   "cell_type": "markdown",
   "id": "6c0b9846",
   "metadata": {
    "deletable": false,
    "id": "1cef7837"
   },
   "source": [
    "**Вывод:** Минимальная вероятность невозврата у разведенных, овдовевших и тех, кто состоит в официальном браке. Наибольшая вероятность невозврата/вохврата с задержкой у тех, кто живет гражданским браком и не женатых/не замужних."
   ]
  },
  {
   "cell_type": "markdown",
   "id": "8e39277f",
   "metadata": {
    "deletable": false,
    "editable": false,
    "id": "1e8b2fca"
   },
   "source": [
    "#### 3.3 Есть ли зависимость между уровнем дохода и возвратом кредита в срок?"
   ]
  },
  {
   "cell_type": "code",
   "execution_count": 111,
   "id": "e1d30c5c",
   "metadata": {
    "deletable": false,
    "id": "cd7e3720"
   },
   "outputs": [
    {
     "name": "stdout",
     "output_type": "stream",
     "text": [
      "                        sum  count     ratio\n",
      "                       debt   debt          \n",
      "total_income_category                       \n",
      "D                        21    349  0.060172\n",
      "B                       354   5014  0.070602\n",
      "A                         2     25  0.080000\n",
      "C                      1353  15921  0.084982\n",
      "E                         2     22  0.090909\n"
     ]
    }
   ],
   "source": [
    "data_pivot = data.pivot_table(index='total_income_category', values='debt', aggfunc=['sum', 'count']).reset_index()\n",
    "data_pivot['ratio'] = data_pivot['sum'] / data_pivot['count']\n",
    "print(data_pivot.sort_values(by='ratio'))\n"
   ]
  },
  {
   "cell_type": "markdown",
   "id": "922cfc92",
   "metadata": {
    "deletable": false,
    "id": "e8593def"
   },
   "source": [
    "**Вывод:** По категориям A, D, E нельзя судить, ввиду малой выборки. Сравнивая категории B и C, можно сказать, что вероятность невозврата падает с увеличением дохода. "
   ]
  },
  {
   "cell_type": "markdown",
   "id": "8d7a77e8",
   "metadata": {},
   "source": [
    "<div class=\"alert-success\"> \n",
    "<b>Комментарий ревьюера 👍 </b>\n",
    "\n",
    "Да, а тут супер, что обратил на это внимание"
   ]
  },
  {
   "cell_type": "markdown",
   "id": "85f426c3",
   "metadata": {
    "deletable": false,
    "editable": false,
    "id": "99ecbd1f"
   },
   "source": [
    "#### 3.4 Как разные цели кредита влияют на его возврат в срок?"
   ]
  },
  {
   "cell_type": "code",
   "execution_count": 112,
   "id": "a7e7945d",
   "metadata": {
    "deletable": false,
    "id": "2b687290"
   },
   "outputs": [
    {
     "name": "stdout",
     "output_type": "stream",
     "text": [
      "                          sum  count     ratio\n",
      "                         debt   debt          \n",
      "purpose_category                              \n",
      "операции с недвижимостью  780  10751  0.072551\n",
      "проведение свадьбы        183   2313  0.079118\n",
      "получение образования     369   3988  0.092528\n",
      "операции с автомобилем    400   4279  0.093480\n"
     ]
    }
   ],
   "source": [
    "data_pivot = data.pivot_table(index='purpose_category', values='debt', aggfunc=['sum', 'count']).reset_index()\n",
    "data_pivot['ratio'] = data_pivot['sum'] / data_pivot['count']\n",
    "print(data_pivot.sort_values(by='ratio'))"
   ]
  },
  {
   "cell_type": "markdown",
   "id": "d8862470",
   "metadata": {
    "deletable": false,
    "id": "b4bb2ce6"
   },
   "source": [
    "**Вывод:** Те, кто берет деньги на сделку с недвижимостью или проведение свадьбы, вероятнее всего вернут деньги в срок. Одинаково не возвращают деньги те, кто получает образование или покупают автомобиль."
   ]
  },
  {
   "cell_type": "markdown",
   "id": "919f99e1",
   "metadata": {},
   "source": [
    "<div class=\"alert-success\"> \n",
    "<b>Комментарий ревьюера 👍 </b>\n",
    "\n",
    "Здорово, что смотришь на относительные значения, не забываешь про комментарии и т.д. Код тоже хороший"
   ]
  },
  {
   "cell_type": "markdown",
   "id": "085ac801",
   "metadata": {
    "deletable": false,
    "editable": false,
    "id": "09c3ac4c"
   },
   "source": [
    "#### 3.5 Приведите возможные причины появления пропусков в исходных данных."
   ]
  },
  {
   "cell_type": "markdown",
   "id": "986d2748",
   "metadata": {
    "deletable": false,
    "id": "9da2ceda"
   },
   "source": [
    "*Ответ:* Так как пропуски в столбцах с трудовым стажем и информацией о доходах встречались в одних и тех же строках, можно предположить следующее.\n",
    "1. Возможно, клиент получал кредит на специальных условиях (\"не требуется справка о доходах\", \"не требуется справка с места работы\" и т.п.)\n",
    "2. Может в программном коде в разделе о работе есть ошибка, баг - и периодически программа сбивается при запоминании этих данных."
   ]
  },
  {
   "cell_type": "markdown",
   "id": "81e78ad1",
   "metadata": {},
   "source": [
    "<div class=\"alert-success\"> \n",
    "<b>Комментарий ревьюера 👍</b>\n",
    "\n",
    "Согласен с названными тобою возможными причинами пропусков"
   ]
  },
  {
   "cell_type": "markdown",
   "id": "9cffada8",
   "metadata": {
    "deletable": false,
    "editable": false,
    "id": "7b0487d6"
   },
   "source": [
    "#### 3.6 Объясните, почему заполнить пропуски медианным значением — лучшее решение для количественных переменных."
   ]
  },
  {
   "cell_type": "markdown",
   "id": "3399ef4b",
   "metadata": {
    "deletable": false,
    "id": "7ecf2b8e"
   },
   "source": [
    "*Ответ:* На медианное значение не влияют аномальные значения в ряду."
   ]
  },
  {
   "cell_type": "markdown",
   "id": "32142c12",
   "metadata": {},
   "source": [
    "<div class=\"alert-success\"> \n",
    "<b>Комментарий ревьюера 👍 </b>\n",
    "    \n",
    "Верно, дело именно в том, что средние сильно реагируют на выбросы, тем самым искажая наши данные"
   ]
  },
  {
   "cell_type": "markdown",
   "id": "213ebb24",
   "metadata": {
    "deletable": false,
    "editable": false,
    "id": "6db5255a"
   },
   "source": [
    "### Шаг 4: общий вывод."
   ]
  },
  {
   "cell_type": "markdown",
   "id": "5005ee20",
   "metadata": {
    "deletable": false,
    "id": "bad65432"
   },
   "source": [
    "<b> Провели мини-исследование надежности заемщиков </b> <br />\n",
    "<p> <b>Первым шагом</b> было изучение общей информации данных.\n",
    "    В представляемой таблице около 21-й тысячи строк и 12 колонок с информацией о клиентах.\n",
    "</p>\n",
    "<p> <b> На втором шаге </b>\n",
    "<ul>\n",
    "<li>Выявили и удалили пропуски. В около 2-х тысячах строк были пропущены сведения о трудовом стаже и доходе клиента. Можно предположить, что данные были пропущены неслучайно, ввиду специальных условий кредита или из-за программной ошибки - ввод данных о клиенте дает сбой. Пропущенные значения заполнили медианными значениями.</li>\n",
    "<li>Обработали дубликаты. </li>\n",
    "<li>Привели типы данных к удобным для анализа.</li> \n",
    "<li>Сделали категоризацию данных. Цели оформления кредита привели поделили на 4 группы – сделки с недвижимостью, автомобилем, проведение свадьбы и на образование. По уровню дохода клиентов поделили на 5 групп.</li></ul>\n",
    "</p>\n",
    "<p>\n",
    "<b>Третьим шагом</b> было изучение вероятности невозврата клиентом кредита в срок в разрезе по одиночным показателям. <br/>\n",
    "    <br/>Механика проведения анализа по всем нижеуказанным категориям была одинаковой и заключалась в группировке данных по категориям и отражении числа задолжников и общего числа клиентов в этой категории. Далее для каждой строки вычислялось отношение числа задолжников к общему числу клиентов.\n",
    "    <ol>\n",
    "<li>Зависимость между <b>количеством детей</b> и возвратом кредита в срок. <br />\n",
    "    Ввиду малого количества прецедентов оформления кредита людьми с 3-мя, 4-мя, и 5-ю детьми о данных категориях судить нельзя. <br />\n",
    "    Без учета этих трех категорий клиенты с без детей, с 1-м ребенком и 2-мя детьми не вернут кредит в срок с вероятностями 7.5%, 9.2%, 9.4% соответственно. <br />\n",
    "    Делаем предварительный вывод, что вероятность невозврата нелинейно расчет вместе с количеством детей у клиента.</li>\n",
    "<li>Зависимость между <b>семейным положением</b> и возвратом кредита в срок. <br />\n",
    "    Минимальная вероятность невозврата у разведенных, овдовевших и тех, кто состоит в официальном браке – 7.0%, 6.6%, 7.5% соответственно. Наибольшая вероятность невозврата/возврата с задержкой у тех, кто живет гражданским браком и не женатых/не замужних – 9.3% и 9.7%.</li>\n",
    "<li>Зависимость между <b>уровнем дохода</b> и возвратом кредита в срок.<br />\n",
    "    Минимум данных о категориях с доходами 0-30 тыс.руб. в месяц (E), 30-50 тыс.руб. в месяц (D), и свыше 1 млн.руб. в месяц (А). По ним сделать вывод невозможно.<br />\n",
    "    Категории с доходами 50-200 тыс.руб. в месяц (С) и 200 тыс.руб. – 1 млн.руб. в месяц не вернут кредит в срок с вероятностями 8.5% и 7.1% соответственно. То есть, предварительно делаем вывод, что вероятность невозврата кредита в срок падает с увеличением дохода. Так же, предполагаю, что необходимо подробнее разбить данные категории для более детального изучения зависимости.</li>\n",
    "<li>Зависимость между <b>целью кредита</b> и его возвратом в срок.<br />\n",
    "    Те, кто берет деньги на сделку с недвижимостью или проведение свадьбы, вероятнее всего вернут деньги в срок (7.3% и 7.9%). Одинаково не возвращают деньги те, кто получает образование или покупают автомобиль (9.25% и 9.35%).</li> </ol>\n",
    " </p>\n",
    "<p>\n",
    "<b>Резюме</b>\n",
    "<ol>\n",
    "<li> Факт того, что категории не женатых/не замужних и тех, кто живет гражданским браком с большей вероятностью не вернут кредит, а люди без детей – с наименьшей (!!! Логическое противоречие !!!), заставляет предположить, что делать выводы о вероятности возврата кредита в срок клиентом в разрезах по одиночным показателям ошибочно. Необходимо комплексное исследование, одновременно учитывающее несколько показателей.</li>\n",
    "<li>При наличии технической возможности положительно скажется на исследовании, если в таблицу добавить более подробную информацию о задержке клиентом выплаты по кредиту (указать продолжительность задержки, указать регулярность задержек).</li>\n",
    "<li>Также необходимо внести сведения о городе, в котором проживает клиент. Для каждого города провести небольшое исследование рынка труда и более точно категоризовать клиентов по уровню дохода.</li> </ol>\n",
    "</p>\n"
   ]
  },
  {
   "cell_type": "markdown",
   "id": "b0e3af31",
   "metadata": {},
   "source": [
    "<div class=\"alert-danger\"> \n",
    "<b>Комментарий ревьюера ❌</b> \n",
    "\n",
    "Вывод можно расширить, дополнить. Рассказать о том, как ты к этому пришел. Построил таблички, ответил на вопросы и т.д., т.е. в нем стоит описывать не только итоги проекта, но и некоторый путь к этим итогам, краткую выжимку твоей работы. Также надо представить, что ты готовишь какие-то рекомендации бизнесу, поэтому презентовать им два предложения - не лучший вариант. Например, можно рассказать, чем результаты твоего мини-исследования могут быть полезны для бизнеса / заказчика в его деятельности"
   ]
  },
  {
   "cell_type": "markdown",
   "id": "2d24e120",
   "metadata": {},
   "source": [
    "<div class=\"alert-danger\"> \n",
    "<b>Комментарий ревьюера ❌</b>\n",
    "    \n",
    "Отличный проект, тобою проделана большая работа, ты молодец!\n",
    "\n",
    "Сперва похвалю за наличие везде промежуточных выводов, комментариев. Очень хороший код, показываешь хорошие навыки владения инструментами Питона, в частности - сводными таблицами. Также дны верные ответы на поставленные в задании вопросы.\n",
    "    \n",
    "Что обязательно стоит доработать: дописать общий вывод\n",
    "    \n",
    "Буду ждать доработок :) Удачи!"
   ]
  },
  {
   "cell_type": "markdown",
   "id": "a98ee8f5",
   "metadata": {},
   "source": [
    "<div background-color=\"blue\"> \n",
    "<b>Комментарий студента</b> \n",
    "\n",
    "Спасибо! Такие комментарии вдохновляют:)<br />\n",
    "    Обновил вывод - описал ход исследования и сделал свои выводы.\n",
    "    \n",
    "</div>\n"
   ]
  },
  {
   "cell_type": "markdown",
   "id": "7a899753",
   "metadata": {},
   "source": [
    "<div class=\"alert-success\"> \n",
    "<b>Комментарий ревьюера 👍 Вторая итерация </b>\n",
    "\n",
    "Все ошибки исправлены, проект стал еще лучше, принимаю. Успехов в дальнейшей учебе!"
   ]
  }
 ],
 "metadata": {
  "ExecuteTimeLog": [
   {
    "duration": 77,
    "start_time": "2022-09-03T17:59:08.619Z"
   },
   {
    "duration": 828,
    "start_time": "2022-09-03T17:59:17.100Z"
   },
   {
    "duration": 37,
    "start_time": "2022-09-03T17:59:20.954Z"
   },
   {
    "duration": 24,
    "start_time": "2022-09-03T17:59:27.881Z"
   },
   {
    "duration": 12,
    "start_time": "2022-09-03T17:59:30.323Z"
   },
   {
    "duration": 41,
    "start_time": "2022-09-03T17:59:32.759Z"
   },
   {
    "duration": 5,
    "start_time": "2022-09-03T17:59:36.904Z"
   },
   {
    "duration": 12,
    "start_time": "2022-09-03T17:59:39.175Z"
   },
   {
    "duration": 5,
    "start_time": "2022-09-03T17:59:42.531Z"
   },
   {
    "duration": 13,
    "start_time": "2022-09-03T17:59:47.248Z"
   },
   {
    "duration": 6,
    "start_time": "2022-09-03T17:59:48.419Z"
   },
   {
    "duration": 51,
    "start_time": "2022-09-03T17:59:50.398Z"
   },
   {
    "duration": 15,
    "start_time": "2022-09-03T17:59:53.700Z"
   },
   {
    "duration": 5,
    "start_time": "2022-09-03T18:00:01.386Z"
   },
   {
    "duration": 18,
    "start_time": "2022-09-03T18:00:02.631Z"
   },
   {
    "duration": 25,
    "start_time": "2022-09-03T18:00:03.561Z"
   },
   {
    "duration": 29,
    "start_time": "2022-09-03T18:00:04.903Z"
   },
   {
    "duration": 5,
    "start_time": "2022-09-03T18:00:08.037Z"
   },
   {
    "duration": 17,
    "start_time": "2022-09-03T18:00:09.913Z"
   },
   {
    "duration": 7,
    "start_time": "2022-09-03T18:00:11.015Z"
   },
   {
    "duration": 4,
    "start_time": "2022-09-03T18:00:14.610Z"
   },
   {
    "duration": 13,
    "start_time": "2022-09-03T18:00:15.796Z"
   },
   {
    "duration": 15,
    "start_time": "2022-09-03T18:00:20.384Z"
   },
   {
    "duration": 14,
    "start_time": "2022-09-03T18:04:04.634Z"
   },
   {
    "duration": 7,
    "start_time": "2022-09-03T18:05:09.135Z"
   },
   {
    "duration": 14,
    "start_time": "2022-09-03T18:06:43.634Z"
   },
   {
    "duration": 9,
    "start_time": "2022-09-03T18:07:36.768Z"
   },
   {
    "duration": 5,
    "start_time": "2022-09-03T18:09:05.926Z"
   },
   {
    "duration": 10,
    "start_time": "2022-09-03T18:09:15.397Z"
   },
   {
    "duration": 10,
    "start_time": "2022-09-03T18:14:42.105Z"
   },
   {
    "duration": 13,
    "start_time": "2022-09-03T18:15:26.864Z"
   },
   {
    "duration": 9,
    "start_time": "2022-09-03T18:18:54.153Z"
   },
   {
    "duration": 8,
    "start_time": "2022-09-03T18:19:16.093Z"
   },
   {
    "duration": 52,
    "start_time": "2022-09-03T18:20:18.973Z"
   },
   {
    "duration": 8,
    "start_time": "2022-09-03T18:21:57.266Z"
   },
   {
    "duration": 26,
    "start_time": "2022-09-03T18:23:07.089Z"
   },
   {
    "duration": 9,
    "start_time": "2022-09-03T18:23:16.576Z"
   },
   {
    "duration": 9,
    "start_time": "2022-09-03T18:25:18.522Z"
   },
   {
    "duration": 21,
    "start_time": "2022-09-03T18:25:39.800Z"
   },
   {
    "duration": 9,
    "start_time": "2022-09-03T18:27:21.174Z"
   },
   {
    "duration": 9,
    "start_time": "2022-09-03T18:27:29.476Z"
   },
   {
    "duration": 9,
    "start_time": "2022-09-03T18:31:40.218Z"
   },
   {
    "duration": 10,
    "start_time": "2022-09-03T18:32:42.954Z"
   },
   {
    "duration": 14,
    "start_time": "2022-09-03T18:33:10.882Z"
   },
   {
    "duration": 8,
    "start_time": "2022-09-03T18:58:42.562Z"
   },
   {
    "duration": 85,
    "start_time": "2022-09-03T18:58:57.683Z"
   },
   {
    "duration": 17,
    "start_time": "2022-09-03T18:58:59.857Z"
   },
   {
    "duration": 18,
    "start_time": "2022-09-03T18:59:01.853Z"
   },
   {
    "duration": 11,
    "start_time": "2022-09-03T18:59:04.528Z"
   },
   {
    "duration": 34,
    "start_time": "2022-09-03T18:59:07.352Z"
   },
   {
    "duration": 4,
    "start_time": "2022-09-03T18:59:09.216Z"
   },
   {
    "duration": 11,
    "start_time": "2022-09-03T18:59:10.464Z"
   },
   {
    "duration": 5,
    "start_time": "2022-09-03T18:59:13.201Z"
   },
   {
    "duration": 9,
    "start_time": "2022-09-03T18:59:14.355Z"
   },
   {
    "duration": 5,
    "start_time": "2022-09-03T18:59:15.262Z"
   },
   {
    "duration": 41,
    "start_time": "2022-09-03T18:59:18.975Z"
   },
   {
    "duration": 11,
    "start_time": "2022-09-03T18:59:19.871Z"
   },
   {
    "duration": 4,
    "start_time": "2022-09-03T18:59:22.373Z"
   },
   {
    "duration": 16,
    "start_time": "2022-09-03T18:59:23.740Z"
   },
   {
    "duration": 30,
    "start_time": "2022-09-03T18:59:25.902Z"
   },
   {
    "duration": 29,
    "start_time": "2022-09-03T18:59:27.293Z"
   },
   {
    "duration": 5,
    "start_time": "2022-09-03T18:59:30.878Z"
   },
   {
    "duration": 15,
    "start_time": "2022-09-03T18:59:31.923Z"
   },
   {
    "duration": 8,
    "start_time": "2022-09-03T18:59:34.431Z"
   },
   {
    "duration": 5,
    "start_time": "2022-09-03T18:59:37.428Z"
   },
   {
    "duration": 10,
    "start_time": "2022-09-03T18:59:38.658Z"
   },
   {
    "duration": 30,
    "start_time": "2022-09-03T18:59:41.403Z"
   },
   {
    "duration": 19,
    "start_time": "2022-09-03T19:03:14.072Z"
   },
   {
    "duration": 15,
    "start_time": "2022-09-03T19:08:23.528Z"
   },
   {
    "duration": 31,
    "start_time": "2022-09-03T19:14:46.832Z"
   },
   {
    "duration": 18,
    "start_time": "2022-09-03T19:15:04.973Z"
   },
   {
    "duration": 14,
    "start_time": "2022-09-03T19:17:05.145Z"
   },
   {
    "duration": 17,
    "start_time": "2022-09-03T19:17:22.548Z"
   },
   {
    "duration": 10,
    "start_time": "2022-09-03T19:18:06.350Z"
   },
   {
    "duration": 20,
    "start_time": "2022-09-03T19:18:24.646Z"
   },
   {
    "duration": 36,
    "start_time": "2022-09-03T19:19:38.646Z"
   },
   {
    "duration": 26,
    "start_time": "2022-09-03T19:20:35.747Z"
   },
   {
    "duration": 24,
    "start_time": "2022-09-03T19:20:39.661Z"
   },
   {
    "duration": 9,
    "start_time": "2022-09-03T19:24:57.428Z"
   },
   {
    "duration": 20,
    "start_time": "2022-09-03T19:26:35.065Z"
   },
   {
    "duration": 26,
    "start_time": "2022-09-03T19:26:58.535Z"
   },
   {
    "duration": 29,
    "start_time": "2022-09-03T19:30:52.785Z"
   },
   {
    "duration": 29,
    "start_time": "2022-09-03T19:35:40.287Z"
   },
   {
    "duration": 25,
    "start_time": "2022-09-03T19:38:08.701Z"
   },
   {
    "duration": 72,
    "start_time": "2022-09-03T19:38:36.293Z"
   },
   {
    "duration": 21,
    "start_time": "2022-09-03T19:38:37.708Z"
   },
   {
    "duration": 15,
    "start_time": "2022-09-03T19:39:14.166Z"
   },
   {
    "duration": 161,
    "start_time": "2022-09-03T19:48:41.338Z"
   },
   {
    "duration": 16,
    "start_time": "2022-09-03T19:48:42.362Z"
   },
   {
    "duration": 25,
    "start_time": "2022-09-03T19:48:47.000Z"
   },
   {
    "duration": 12,
    "start_time": "2022-09-03T19:48:49.927Z"
   },
   {
    "duration": 35,
    "start_time": "2022-09-03T19:48:51.854Z"
   },
   {
    "duration": 3,
    "start_time": "2022-09-03T19:48:55.879Z"
   },
   {
    "duration": 9,
    "start_time": "2022-09-03T19:48:56.856Z"
   },
   {
    "duration": 6,
    "start_time": "2022-09-03T19:48:58.440Z"
   },
   {
    "duration": 8,
    "start_time": "2022-09-03T19:49:02.239Z"
   },
   {
    "duration": 4,
    "start_time": "2022-09-03T19:49:03.720Z"
   },
   {
    "duration": 41,
    "start_time": "2022-09-03T19:49:05.082Z"
   },
   {
    "duration": 19,
    "start_time": "2022-09-03T19:49:06.098Z"
   },
   {
    "duration": 5,
    "start_time": "2022-09-03T19:49:09.176Z"
   },
   {
    "duration": 13,
    "start_time": "2022-09-03T19:49:10.345Z"
   },
   {
    "duration": 21,
    "start_time": "2022-09-03T19:49:11.352Z"
   },
   {
    "duration": 18,
    "start_time": "2022-09-03T19:49:12.649Z"
   },
   {
    "duration": 3,
    "start_time": "2022-09-03T19:49:16.061Z"
   },
   {
    "duration": 10,
    "start_time": "2022-09-03T19:49:17.173Z"
   },
   {
    "duration": 6,
    "start_time": "2022-09-03T19:49:18.249Z"
   },
   {
    "duration": 5,
    "start_time": "2022-09-03T19:49:21.717Z"
   },
   {
    "duration": 8,
    "start_time": "2022-09-03T19:49:24.121Z"
   },
   {
    "duration": 28,
    "start_time": "2022-09-03T19:49:25.294Z"
   },
   {
    "duration": 25,
    "start_time": "2022-09-03T19:49:28.735Z"
   },
   {
    "duration": 25,
    "start_time": "2022-09-03T19:49:30.215Z"
   },
   {
    "duration": 27,
    "start_time": "2022-09-03T19:49:33.834Z"
   },
   {
    "duration": 29,
    "start_time": "2022-09-03T19:55:52.361Z"
   },
   {
    "duration": 90,
    "start_time": "2022-09-04T08:30:24.941Z"
   },
   {
    "duration": 73,
    "start_time": "2022-09-04T08:30:38.106Z"
   },
   {
    "duration": 139,
    "start_time": "2022-09-04T08:34:09.871Z"
   },
   {
    "duration": 83,
    "start_time": "2022-09-04T08:34:19.206Z"
   },
   {
    "duration": 125,
    "start_time": "2022-09-04T08:34:55.533Z"
   },
   {
    "duration": 106,
    "start_time": "2022-09-04T08:43:52.340Z"
   },
   {
    "duration": 76,
    "start_time": "2022-09-04T08:45:42.264Z"
   },
   {
    "duration": 82,
    "start_time": "2022-09-04T08:45:55.668Z"
   }
  ],
  "colab": {
   "name": "dpp_template_part2.ipynb",
   "provenance": []
  },
  "kernelspec": {
   "display_name": "Python 3 (ipykernel)",
   "language": "python",
   "name": "python3"
  },
  "language_info": {
   "codemirror_mode": {
    "name": "ipython",
    "version": 3
   },
   "file_extension": ".py",
   "mimetype": "text/x-python",
   "name": "python",
   "nbconvert_exporter": "python",
   "pygments_lexer": "ipython3",
   "version": "3.9.5"
  },
  "toc": {
   "base_numbering": 1,
   "nav_menu": {},
   "number_sections": true,
   "sideBar": true,
   "skip_h1_title": true,
   "title_cell": "Table of Contents",
   "title_sidebar": "Contents",
   "toc_cell": false,
   "toc_position": {},
   "toc_section_display": true,
   "toc_window_display": false
  }
 },
 "nbformat": 4,
 "nbformat_minor": 5
}
